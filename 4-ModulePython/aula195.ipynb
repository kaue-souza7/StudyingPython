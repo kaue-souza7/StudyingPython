{
 "cells": [
  {
   "cell_type": "markdown",
   "id": "27eb0225-f59d-4382-84fc-7e2051f581f7",
   "metadata": {},
   "source": [
    "# Esse é o meu titulo\n",
    "Essa linha cria uma variavel 'a'."
   ]
  },
  {
   "cell_type": "code",
   "execution_count": 2,
   "id": "5568ebbe-2ac1-4d48-b8e4-86b46c4d121e",
   "metadata": {},
   "outputs": [],
   "source": [
    "a = 2"
   ]
  },
  {
   "cell_type": "code",
   "execution_count": 3,
   "id": "9096f3a3-c63f-4077-af4f-751419a633b0",
   "metadata": {},
   "outputs": [
    {
     "data": {
      "text/plain": [
       "2"
      ]
     },
     "execution_count": 3,
     "metadata": {},
     "output_type": "execute_result"
    }
   ],
   "source": [
    "a"
   ]
  },
  {
   "cell_type": "markdown",
   "id": "b4bb6fb5-3ab7-4b65-8ba1-81d53d371ff7",
   "metadata": {},
   "source": [
    "Essa linha tem o valor da variável `a` em dobro"
   ]
  },
  {
   "cell_type": "code",
   "execution_count": 7,
   "id": "eec81447-4ab5-424b-9c07-32bbf396738d",
   "metadata": {},
   "outputs": [
    {
     "data": {
      "text/plain": [
       "4"
      ]
     },
     "execution_count": 7,
     "metadata": {},
     "output_type": "execute_result"
    }
   ],
   "source": [
    "b = a * 2\n",
    "b"
   ]
  },
  {
   "cell_type": "markdown",
   "id": "14b3ecd7-9baf-4fad-b32a-c11908c3d7c4",
   "metadata": {},
   "source": [
    "Essa linha mostra o valor de `a` + `b`"
   ]
  },
  {
   "cell_type": "code",
   "execution_count": 9,
   "id": "b09b3f0e-2e7c-415d-b755-173db2114d35",
   "metadata": {},
   "outputs": [
    {
     "data": {
      "text/plain": [
       "6"
      ]
     },
     "execution_count": 9,
     "metadata": {},
     "output_type": "execute_result"
    }
   ],
   "source": [
    "c = a + b\n",
    "c"
   ]
  },
  {
   "cell_type": "code",
   "execution_count": null,
   "id": "dae511de-2bd4-4ed3-b30f-1656136a4cdd",
   "metadata": {},
   "outputs": [],
   "source": []
  }
 ],
 "metadata": {
  "kernelspec": {
   "display_name": "Python 3 (ipykernel)",
   "language": "python",
   "name": "python3"
  },
  "language_info": {
   "codemirror_mode": {
    "name": "ipython",
    "version": 3
   },
   "file_extension": ".py",
   "mimetype": "text/x-python",
   "name": "python",
   "nbconvert_exporter": "python",
   "pygments_lexer": "ipython3",
   "version": "3.12.2"
  }
 },
 "nbformat": 4,
 "nbformat_minor": 5
}
